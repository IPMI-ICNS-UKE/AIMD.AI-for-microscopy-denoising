{
 "cells": [
  {
   "cell_type": "markdown",
   "id": "a08f5141-b6d3-4679-be2e-8d0b5b1334f8",
   "metadata": {},
   "source": [
    "__UNet - perception loss in fastai v2 - Basemodel_Hagen__"
   ]
  },
  {
   "cell_type": "code",
   "execution_count": null,
   "id": "529f3d7b-09c2-467f-b2ef-108e9b2fb828",
   "metadata": {},
   "outputs": [],
   "source": [
    "from fastai.vision.all import *\n",
    "import os\n",
    "import pathlib\n",
    "import fastai; fastai.__version__"
   ]
  },
  {
   "cell_type": "code",
   "execution_count": null,
   "id": "52a1232d",
   "metadata": {},
   "outputs": [],
   "source": [
    "torch.cuda.set_device(0)"
   ]
  },
  {
   "cell_type": "code",
   "execution_count": null,
   "id": "a26f1fcc",
   "metadata": {},
   "outputs": [],
   "source": [
    "torch.cuda.current_device(), torch.cuda.get_device_name(0)"
   ]
  },
  {
   "cell_type": "code",
   "execution_count": null,
   "id": "ba8fb144-e0d1-48a1-b66f-c78a0ebcfe96",
   "metadata": {},
   "outputs": [],
   "source": [
    "# set to torch.device(\"cpu\"), if you do not have a graphic card to work with!\n",
    "device=torch.device(\"cuda\")"
   ]
  },
  {
   "cell_type": "code",
   "execution_count": null,
   "id": "42180d0b-1adc-4179-b7cb-dd5fa481b6cd",
   "metadata": {},
   "outputs": [],
   "source": [
    "path = pathlib.Path(os.getcwd())"
   ]
  },
  {
   "cell_type": "code",
   "execution_count": null,
   "id": "cab85961-435e-4423-aa0d-05e93263049d",
   "metadata": {},
   "outputs": [],
   "source": [
    "path_GT = path/'Daten/Hagen_GT'\n",
    "path_noisy = path/'Daten/Hagen_noisy'\n",
    "\n",
    "\"\"\"\n",
    "# use the following path for Actin data only\n",
    "path_GT = path/'Daten/Hagen_actin_GT'\n",
    "path_noisy = path/'Daten/Hagen__noisy'\n",
    "\"\"\""
   ]
  },
  {
   "cell_type": "code",
   "execution_count": null,
   "id": "2342ccca",
   "metadata": {},
   "outputs": [],
   "source": [
    "# set seeds for everything for reproducibility\n",
    "%run utility/set_seeds.ipynb"
   ]
  },
  {
   "cell_type": "code",
   "execution_count": null,
   "id": "41e5c913-c930-4114-bf75-c2395d7d9f08",
   "metadata": {},
   "outputs": [],
   "source": [
    "# run Dataloader\n",
    "%run utility/Dataloader_Hagen.ipynb"
   ]
  },
  {
   "cell_type": "code",
   "execution_count": null,
   "id": "ebd82cef",
   "metadata": {},
   "outputs": [],
   "source": [
    "# run notebook to set loss \n",
    "%run utility/Perception_loss.ipynb"
   ]
  },
  {
   "cell_type": "code",
   "execution_count": null,
   "id": "af0232e0-6aaa-4fd5-9e3a-fb319f89ed6f",
   "metadata": {},
   "outputs": [],
   "source": [
    "# apply dataloader with batchsize of 38 for RTX4060, 16GB - loss weights may need be tuned for other bs\n",
    "dls_den, dblock = get_dls(16)"
   ]
  },
  {
   "cell_type": "code",
   "execution_count": null,
   "id": "769fce40-7105-41e0-a7f2-4b1d457c2092",
   "metadata": {},
   "outputs": [],
   "source": [
    "# setup loss function and weights for indiviual loss components - approximately equal loss in first epoch\n",
    "#loss_func = FeatureLoss(vgg_m, blocks[2:5],[100], [5,15,17], [3,22,21])    # aedequate weights for actin only\n",
    "loss_func = FeatureLoss(vgg_m, blocks[2:5],[100], [6,16,19], [4,25,22])    # tuned weights for all Hagen data"
   ]
  },
  {
   "cell_type": "code",
   "execution_count": null,
   "id": "a72328ce-956e-468e-819d-6f868ca8cc9f",
   "metadata": {},
   "outputs": [],
   "source": [
    "# set metrics to track individual loss components \n",
    "metrics = LossMetrics(loss_func.metric_names)"
   ]
  },
  {
   "cell_type": "code",
   "execution_count": null,
   "id": "b02eae5d-2ad7-4741-82f5-b14352573c24",
   "metadata": {},
   "outputs": [],
   "source": [
    "# set file name and tracking information to store training metrics\n",
    "fname = 'Basemodel_Hagen_all'\n",
    "cbs = CSVLogger(fname=fname+'.csv')                                                "
   ]
  },
  {
   "cell_type": "code",
   "execution_count": null,
   "id": "8f785f93",
   "metadata": {},
   "outputs": [],
   "source": [
    "# define model architecture and parameters, pretrained false sets all layers as trainable\n",
    "def create_gen_learner():\n",
    "    return unet_learner(dls_den, bbone, loss_func=loss_func, blur=True, norm_type=NormType.Weight, \n",
    "                        self_attention=True, y_range=y_range, pretrained=False, weights=None,\n",
    "                        metrics=metrics, cbs=cbs\n",
    "                        )"
   ]
  },
  {
   "cell_type": "code",
   "execution_count": null,
   "id": "3e2ce324",
   "metadata": {},
   "outputs": [],
   "source": [
    "# create denoising learner\n",
    "learn_den = create_gen_learner()\n",
    "learn_den.to_fp16()\n",
    "learn_den.summary() # to check that all layers are trainable"
   ]
  },
  {
   "cell_type": "code",
   "execution_count": null,
   "id": "ffa092f8",
   "metadata": {},
   "outputs": [],
   "source": [
    "# learning rate finder to set proper learning rate - high slope for loss\n",
    "learn_den.lr_find()"
   ]
  },
  {
   "cell_type": "code",
   "execution_count": null,
   "id": "c41789eb",
   "metadata": {
    "execution": {
     "iopub.execute_input": "2024-12-18T15:28:06.306617Z",
     "iopub.status.busy": "2024-12-18T15:28:06.306440Z",
     "iopub.status.idle": "2024-12-19T11:41:02.276400Z",
     "shell.execute_reply": "2024-12-19T11:41:02.275302Z"
    }
   },
   "outputs": [],
   "source": [
    "# training using the one cycle policy - learning rate scheduler\n",
    "learn_den.fit_one_cycle(200,1e-3,wd=wd)"
   ]
  },
  {
   "cell_type": "code",
   "execution_count": null,
   "id": "56a3c67b",
   "metadata": {
    "execution": {
     "iopub.execute_input": "2024-12-19T11:41:02.282138Z",
     "iopub.status.busy": "2024-12-19T11:41:02.281761Z",
     "iopub.status.idle": "2024-12-19T11:41:07.269867Z",
     "shell.execute_reply": "2024-12-19T11:41:07.269197Z"
    }
   },
   "outputs": [],
   "source": [
    "# save model\n",
    "learn_den.save(fname)"
   ]
  }
 ],
 "metadata": {
  "kernelspec": {
   "display_name": "Python 3 (ipykernel)",
   "language": "python",
   "name": "python3"
  },
  "language_info": {
   "codemirror_mode": {
    "name": "ipython",
    "version": 3
   },
   "file_extension": ".py",
   "mimetype": "text/x-python",
   "name": "python",
   "nbconvert_exporter": "python",
   "pygments_lexer": "ipython3",
   "version": "3.10.13"
  }
 },
 "nbformat": 4,
 "nbformat_minor": 5
}
