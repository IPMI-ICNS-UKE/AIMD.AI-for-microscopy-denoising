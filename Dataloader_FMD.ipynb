{
 "cells": [
  {
   "cell_type": "markdown",
   "id": "a08f5141-b6d3-4679-be2e-8d0b5b1334f8",
   "metadata": {},
   "source": [
    "## Dataloder and loss function for Basemodel_FMD"
   ]
  },
  {
   "cell_type": "code",
   "execution_count": null,
   "id": "529f3d7b-09c2-467f-b2ef-108e9b2fb828",
   "metadata": {},
   "outputs": [],
   "source": [
    "from fastai.vision.all import *\n",
    "import fastai; fastai.__version__"
   ]
  },
  {
   "cell_type": "code",
   "execution_count": null,
   "id": "af0232e0-6aaa-4fd5-9e3a-fb319f89ed6f",
   "metadata": {},
   "outputs": [],
   "source": [
    "# set up data loader via DataBlock API\n",
    "def get_dls(bs:int, size:int):\n",
    "    dblock = DataBlock(blocks=(ImageBlock, ImageBlock),\n",
    "                       get_items=get_image_files,\n",
    "                       get_y = lambda x: path_GT/x.name,\n",
    "                       splitter=RandomSplitter(valid_pct=0.2),                       \n",
    "                       item_tfms = RandomCrop(size),\n",
    "                       batch_tfms=[RandomErasing(p=0.5, sl=0.005, sh=0.01, min_aspect=0.3,max_count=5),\n",
    "                                   Normalize.from_stats(*imagenet_stats)\n",
    "                                  ])                                   \n",
    "    dls = dblock.dataloaders(path_noisy, bs=bs, path=path)\n",
    "    dls.c = 3\n",
    "    return dls"
   ]
  }
 ],
 "metadata": {
  "kernelspec": {
   "display_name": "Python 3 (ipykernel)",
   "language": "python",
   "name": "python3"
  },
  "language_info": {
   "codemirror_mode": {
    "name": "ipython",
    "version": 3
   },
   "file_extension": ".py",
   "mimetype": "text/x-python",
   "name": "python",
   "nbconvert_exporter": "python",
   "pygments_lexer": "ipython3",
   "version": "3.10.13"
  }
 },
 "nbformat": 4,
 "nbformat_minor": 5
}
