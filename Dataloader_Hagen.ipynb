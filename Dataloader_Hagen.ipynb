{
 "cells": [
  {
   "cell_type": "markdown",
   "id": "a08f5141-b6d3-4679-be2e-8d0b5b1334f8",
   "metadata": {},
   "source": [
    "__Dataloder FMD_to_Hagen_Transfer and Baseline_Hagen__"
   ]
  },
  {
   "cell_type": "code",
   "execution_count": 31,
   "id": "529f3d7b-09c2-467f-b2ef-108e9b2fb828",
   "metadata": {},
   "outputs": [
    {
     "data": {
      "text/plain": [
       "'2.7.15'"
      ]
     },
     "execution_count": 31,
     "metadata": {},
     "output_type": "execute_result"
    }
   ],
   "source": [
    "from fastai.vision.all import *\n",
    "import cv2\n",
    "import fastai; fastai.__version__"
   ]
  },
  {
   "cell_type": "code",
   "execution_count": null,
   "id": "49416c57-c662-4e7a-af15-917e2e9eed0c",
   "metadata": {},
   "outputs": [],
   "source": [
    "def open_img(path):\n",
    "    img_array = cv2.imread(str(path),-1)\n",
    "    img_array = np.stack([img_array, img_array, img_array],0)\n",
    "    img_array = img_array/65535\n",
    "    img_array = img_array.astype('float32')\n",
    "    img_tensor = torch.tensor(img_array, dtype=torch.float32)\n",
    "    img_tensor = resize_tensor(img_tensor)\n",
    "    return img_tensor\n",
    "\n",
    "# resize the dimensions of a tensor, since TransformBlock has no \"Resize\" method\n",
    "def resize_tensor(input_tensor):\n",
    "    tensor_un = input_tensor.unsqueeze(0)\n",
    "    tensor_res = torch.nn.functional.interpolate(tensor_un,size=(256,256), mode='bilinear', align_corners=True)\n",
    "    tensor_sq = tensor_res.squeeze(0)\n",
    "    return(tensor_sq)"
   ]
  },
  {
   "cell_type": "code",
   "execution_count": 2,
   "id": "af0232e0-6aaa-4fd5-9e3a-fb319f89ed6f",
   "metadata": {},
   "outputs": [],
   "source": [
    "# set up data loader via DataBlock API\n",
    "set_seed(42)\n",
    "def get_dls(bs:int):\n",
    "    dblock = DataBlock(blocks=(TransformBlock(open_img), TransformBlock(open_img)),           # replace ImageBlock with TransformBlock\n",
    "                       get_items=get_image_files,\n",
    "                       get_y = lambda x: path_GT/x.name,\n",
    "                       splitter=RandomSplitter(valid_pct=0.2),\n",
    "                       batch_tfms=[Normalize.from_stats(*imagenet_stats)]\n",
    "                                  )                                   \n",
    "    dls = dblock.dataloaders(path_noisy, bs=bs, path=path)\n",
    "    dls.c = 3\n",
    "    return dls, dblock"
   ]
  }
 ],
 "metadata": {
  "kernelspec": {
   "display_name": "Python 3 (ipykernel)",
   "language": "python",
   "name": "python3"
  },
  "language_info": {
   "codemirror_mode": {
    "name": "ipython",
    "version": 3
   },
   "file_extension": ".py",
   "mimetype": "text/x-python",
   "name": "python",
   "nbconvert_exporter": "python",
   "pygments_lexer": "ipython3",
   "version": "3.10.13"
  }
 },
 "nbformat": 4,
 "nbformat_minor": 5
}
