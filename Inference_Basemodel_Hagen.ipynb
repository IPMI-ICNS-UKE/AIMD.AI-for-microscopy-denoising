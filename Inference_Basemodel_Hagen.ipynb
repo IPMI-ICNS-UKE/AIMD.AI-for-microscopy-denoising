{
 "cells": [
  {
   "cell_type": "markdown",
   "id": "a08f5141-b6d3-4679-be2e-8d0b5b1334f8",
   "metadata": {},
   "source": [
    "__Inference set up - Basemodel_Hagen__"
   ]
  },
  {
   "cell_type": "code",
   "execution_count": null,
   "id": "529f3d7b-09c2-467f-b2ef-108e9b2fb828",
   "metadata": {},
   "outputs": [],
   "source": [
    "from fastai.vision.all import *\n",
    "import cv2\n",
    "import os\n",
    "import pathlib\n",
    "import fastai; fastai.__version__"
   ]
  },
  {
   "cell_type": "code",
   "execution_count": null,
   "id": "425de756-b3ed-4074-9541-09e1826bd0d3",
   "metadata": {},
   "outputs": [],
   "source": [
    "torch.cuda.set_device(0)"
   ]
  },
  {
   "cell_type": "code",
   "execution_count": null,
   "id": "a26f1fcc",
   "metadata": {},
   "outputs": [],
   "source": [
    "torch.cuda.current_device(), torch.cuda.get_device_name(0)"
   ]
  },
  {
   "cell_type": "code",
   "execution_count": null,
   "id": "55f652f4-dc36-49dc-8286-c78980c39e31",
   "metadata": {},
   "outputs": [],
   "source": [
    "device=torch.device(\"cuda\")"
   ]
  },
  {
   "cell_type": "code",
   "execution_count": null,
   "id": "9a99af86-7f4e-4d4a-bb43-525d55e91992",
   "metadata": {},
   "outputs": [],
   "source": [
    "path = pathlib.Path(os.getcwd())"
   ]
  },
  {
   "cell_type": "code",
   "execution_count": null,
   "id": "cab85961-435e-4423-aa0d-05e93263049d",
   "metadata": {},
   "outputs": [],
   "source": [
    "path_GT = path/'Daten/Hagen_GT'\n",
    "path_noisy = path/'Daten/Hagen_noisy'"
   ]
  },
  {
   "cell_type": "code",
   "execution_count": null,
   "id": "0ddfe5f4-66a9-4576-a3d9-492d415f6f7f",
   "metadata": {},
   "outputs": [],
   "source": [
    "%run Dataloader_Hagen.ipynb\n",
    "%run Perception_loss.ipynb"
   ]
  },
  {
   "cell_type": "code",
   "execution_count": null,
   "id": "769fce40-7105-41e0-a7f2-4b1d457c2092",
   "metadata": {},
   "outputs": [],
   "source": [
    "dls_den, dblock = get_dls(38)  # required to generate learner, sets batchsize for prediction "
   ]
  },
  {
   "cell_type": "code",
   "execution_count": null,
   "id": "56a3c67b",
   "metadata": {},
   "outputs": [],
   "source": [
    "loss_func = FeatureLoss(vgg_m, blocks[2:5],[1], [1,1,1], [1,1,1]) # dummy"
   ]
  },
  {
   "cell_type": "code",
   "execution_count": null,
   "id": "ac7d5e3a-60e0-433f-8b31-b9c9efadea8e",
   "metadata": {},
   "outputs": [],
   "source": [
    "# define learner w/o learning parameters (e.g. metrics, cbs)\n",
    "def create_gen_learner():\n",
    "    return unet_learner(dls_den, bbone, loss_func=loss_func, blur=True, norm_type=NormType.Weight, \n",
    "                        self_attention=True, y_range=y_range\n",
    "                        )"
   ]
  },
  {
   "cell_type": "code",
   "execution_count": null,
   "id": "e63f025e-64bd-4189-b367-262f1e2d6ed1",
   "metadata": {},
   "outputs": [],
   "source": [
    "# create learner\n",
    "learn_den = create_gen_learner()\n",
    "# load the Basemodel into that leaner and convert to fp16\n",
    "learn_den.load('Basemodel_Hagen').to_fp16()"
   ]
  },
  {
   "cell_type": "markdown",
   "id": "802bef0d-892f-449e-a7a8-9ecd8008bce5",
   "metadata": {},
   "source": [
    "__Set up data and perform inference__"
   ]
  },
  {
   "cell_type": "code",
   "execution_count": null,
   "id": "788965f1-502e-4510-aa30-31a0f1eb50d4",
   "metadata": {},
   "outputs": [],
   "source": [
    "path_test = path/'Daten/Hagen_testmix/noisy_tiles'\n",
    "path_preds = path/'Daten/Hagen_testmix/Hagen_pred_tiles'\n",
    "path_preds.mkdir(exist_ok=True)"
   ]
  },
  {
   "cell_type": "code",
   "execution_count": null,
   "id": "3337f32a-7231-431b-a18a-e1ae1856f66b",
   "metadata": {},
   "outputs": [],
   "source": [
    "# check path\n",
    "test_files = get_image_files(path_test, recurse=True)\n",
    "test_files[0], len(test_files)"
   ]
  },
  {
   "cell_type": "code",
   "execution_count": null,
   "id": "1d00aaec-1580-4faf-910a-26dccd860f60",
   "metadata": {},
   "outputs": [],
   "source": [
    "def save_preds(dl, learn):\n",
    "  \"Save away predictions\"\n",
    "  names = dl.dataset.items  \n",
    "    \n",
    "  inp, preds, _,decoded = learn.get_preds(dl=dl, with_input=True, with_decoded=True)\n",
    "\n",
    "  for i,pred in enumerate(preds):      \n",
    "      arr = pred.clamp_(0,1).permute(1,2,0).numpy()\n",
    "      arr = arr[:,:,0]*(2**16-1)\n",
    "      cv2.imwrite(str(path_preds/names[i].name),arr.astype(np.uint16))\n",
    "  return inp, preds, decoded                  # return outputs for analysis"
   ]
  },
  {
   "cell_type": "code",
   "execution_count": null,
   "id": "19d6f2d8-9469-4efd-b197-f37935a13509",
   "metadata": {},
   "outputs": [],
   "source": [
    "\"\"\"\n",
    "test_dl=learn_den.dls.test_dl(test_files)\n",
    "inp, preds, dec = save_preds(test_dl, learn_den)\n",
    "\"\"\""
   ]
  },
  {
   "cell_type": "code",
   "execution_count": null,
   "id": "7d1ce84b-2ced-4234-8daf-87b5a6dd61b4",
   "metadata": {},
   "outputs": [],
   "source": [
    "# use this loop with a chunksize, if your RAM cant contain all predictions\n",
    "chunk_size = 5000\n",
    "for k in range(0,len(test_files),chunk_size):\n",
    "    chunk = test_files[k:k+chunk_size]\n",
    "    test_dl=learn_den.dls.test_dl(chunk)\n",
    "    inp, preds, dec = save_preds(test_dl, learn_den)"
   ]
  }
 ],
 "metadata": {
  "kernelspec": {
   "display_name": "Python 3 (ipykernel)",
   "language": "python",
   "name": "python3"
  },
  "language_info": {
   "codemirror_mode": {
    "name": "ipython",
    "version": 3
   },
   "file_extension": ".py",
   "mimetype": "text/x-python",
   "name": "python",
   "nbconvert_exporter": "python",
   "pygments_lexer": "ipython3",
   "version": "3.10.13"
  }
 },
 "nbformat": 4,
 "nbformat_minor": 5
}
