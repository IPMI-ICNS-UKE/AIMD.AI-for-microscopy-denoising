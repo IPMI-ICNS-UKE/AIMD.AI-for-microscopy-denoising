{
 "cells": [
  {
   "cell_type": "markdown",
   "id": "a08f5141-b6d3-4679-be2e-8d0b5b1334f8",
   "metadata": {},
   "source": [
    "__UNet - perception loss in fastai v2 - Transfer learning using FMD_Basemodel__"
   ]
  },
  {
   "cell_type": "code",
   "execution_count": null,
   "id": "529f3d7b-09c2-467f-b2ef-108e9b2fb828",
   "metadata": {
    "execution": {
     "iopub.execute_input": "2024-12-18T15:29:39.557908Z",
     "iopub.status.busy": "2024-12-18T15:29:39.557764Z",
     "iopub.status.idle": "2024-12-18T15:29:42.158519Z",
     "shell.execute_reply": "2024-12-18T15:29:42.158015Z"
    }
   },
   "outputs": [],
   "source": [
    "from fastai.vision.all import *\n",
    "import os\n",
    "import pathlib\n",
    "import fastai; fastai.__version__"
   ]
  },
  {
   "cell_type": "code",
   "execution_count": null,
   "id": "52a1232d",
   "metadata": {
    "execution": {
     "iopub.execute_input": "2024-12-18T15:29:42.160514Z",
     "iopub.status.busy": "2024-12-18T15:29:42.160301Z",
     "iopub.status.idle": "2024-12-18T15:29:42.402448Z",
     "shell.execute_reply": "2024-12-18T15:29:42.401941Z"
    }
   },
   "outputs": [],
   "source": [
    "torch.cuda.set_device(5)"
   ]
  },
  {
   "cell_type": "code",
   "execution_count": null,
   "id": "a26f1fcc",
   "metadata": {
    "execution": {
     "iopub.execute_input": "2024-12-18T15:29:42.404748Z",
     "iopub.status.busy": "2024-12-18T15:29:42.404597Z",
     "iopub.status.idle": "2024-12-18T15:29:42.407893Z",
     "shell.execute_reply": "2024-12-18T15:29:42.407540Z"
    }
   },
   "outputs": [],
   "source": [
    "torch.cuda.current_device(), torch.cuda.get_device_name(0)"
   ]
  },
  {
   "cell_type": "code",
   "execution_count": null,
   "id": "ed891fcf-12b4-4ac2-a768-fd7e662d2b8a",
   "metadata": {
    "execution": {
     "iopub.execute_input": "2024-12-18T15:29:42.409811Z",
     "iopub.status.busy": "2024-12-18T15:29:42.409672Z",
     "iopub.status.idle": "2024-12-18T15:29:42.411791Z",
     "shell.execute_reply": "2024-12-18T15:29:42.411442Z"
    }
   },
   "outputs": [],
   "source": [
    "# set to toch.device(\"cpu\"), if you do not have a graphic card to work with!\n",
    "device=torch.device(\"cuda\")"
   ]
  },
  {
   "cell_type": "code",
   "execution_count": null,
   "id": "42180d0b-1adc-4179-b7cb-dd5fa481b6cd",
   "metadata": {
    "execution": {
     "iopub.execute_input": "2024-12-18T15:29:42.413544Z",
     "iopub.status.busy": "2024-12-18T15:29:42.413413Z",
     "iopub.status.idle": "2024-12-18T15:29:42.415466Z",
     "shell.execute_reply": "2024-12-18T15:29:42.415119Z"
    }
   },
   "outputs": [],
   "source": [
    "path = pathlib.Path(os.getcwd())"
   ]
  },
  {
   "cell_type": "code",
   "execution_count": null,
   "id": "cab85961-435e-4423-aa0d-05e93263049d",
   "metadata": {
    "execution": {
     "iopub.execute_input": "2024-12-18T15:29:42.417238Z",
     "iopub.status.busy": "2024-12-18T15:29:42.417108Z",
     "iopub.status.idle": "2024-12-18T15:29:42.419856Z",
     "shell.execute_reply": "2024-12-18T15:29:42.419525Z"
    }
   },
   "outputs": [],
   "source": [
    "path_GT = path/'Daten/Hagen_GT'\n",
    "path_noisy = path/'Daten/Hagen_noisy'\n",
    "\"\"\"\n",
    "use the following path for Actin data only\n",
    "path_GT = path/'Daten/Hagen_actin_GT'\n",
    "path_noisy = path/'Daten/Hagen__noisy'\n",
    "\"\"\""
   ]
  },
  {
   "cell_type": "code",
   "execution_count": null,
   "id": "ce950fd1-6da0-434c-aae0-0446af80dffc",
   "metadata": {
    "execution": {
     "iopub.execute_input": "2024-12-18T15:29:42.421609Z",
     "iopub.status.busy": "2024-12-18T15:29:42.421478Z",
     "iopub.status.idle": "2024-12-18T15:29:42.514652Z",
     "shell.execute_reply": "2024-12-18T15:29:42.514145Z"
    }
   },
   "outputs": [],
   "source": [
    "# set seeds for everything for reproducibility\n",
    "%run set_seeds.ipynb"
   ]
  },
  {
   "cell_type": "code",
   "execution_count": null,
   "id": "d08c3e58-1673-41d5-99f7-1e412387075d",
   "metadata": {
    "execution": {
     "iopub.execute_input": "2024-12-18T15:29:42.517524Z",
     "iopub.status.busy": "2024-12-18T15:29:42.517379Z",
     "iopub.status.idle": "2024-12-18T15:29:42.522858Z",
     "shell.execute_reply": "2024-12-18T15:29:42.522492Z"
    }
   },
   "outputs": [],
   "source": [
    "# run Dataloader\n",
    "%run Dataloader_Hagen.ipynb"
   ]
  },
  {
   "cell_type": "code",
   "execution_count": null,
   "id": "2342ccca",
   "metadata": {
    "execution": {
     "iopub.execute_input": "2024-12-18T15:29:42.524835Z",
     "iopub.status.busy": "2024-12-18T15:29:42.524559Z",
     "iopub.status.idle": "2024-12-18T15:29:43.961937Z",
     "shell.execute_reply": "2024-12-18T15:29:43.958007Z"
    }
   },
   "outputs": [],
   "source": [
    "# run notebook to set loss \n",
    "%run Perception_loss.ipynb"
   ]
  },
  {
   "cell_type": "code",
   "execution_count": null,
   "id": "769fce40-7105-41e0-a7f2-4b1d457c2092",
   "metadata": {
    "execution": {
     "iopub.execute_input": "2024-12-18T15:29:43.967397Z",
     "iopub.status.busy": "2024-12-18T15:29:43.966781Z",
     "iopub.status.idle": "2024-12-18T15:29:50.182121Z",
     "shell.execute_reply": "2024-12-18T15:29:50.181130Z"
    }
   },
   "outputs": [],
   "source": [
    "# apply dataloader with batchsize of 38 for RTX4060, 16GB - loss weights may need be tuned for other bs\n",
    "dls_den, dblock = get_dls(38)"
   ]
  },
  {
   "cell_type": "code",
   "execution_count": null,
   "id": "b02eae5d-2ad7-4741-82f5-b14352573c24",
   "metadata": {
    "execution": {
     "iopub.execute_input": "2024-12-18T15:29:50.185330Z",
     "iopub.status.busy": "2024-12-18T15:29:50.185151Z",
     "iopub.status.idle": "2024-12-18T15:29:50.189133Z",
     "shell.execute_reply": "2024-12-18T15:29:50.188339Z"
    }
   },
   "outputs": [],
   "source": [
    "# setup loss function and weights for indiviual loss components - approximately equal loss in first epoch\n",
    "#loss_func = FeatureLoss(vgg_m, blocks[2:5],[100], [4,11,14], [2,13,19])    # tuned weights for actin only data\n",
    "loss_func = FeatureLoss(vgg_m, blocks[2:5],[100], [6,17,20], [4,27,24])    # tuned weights for all Hagen data"
   ]
  },
  {
   "cell_type": "code",
   "execution_count": null,
   "id": "8f785f93",
   "metadata": {
    "execution": {
     "iopub.execute_input": "2024-12-18T15:29:50.191150Z",
     "iopub.status.busy": "2024-12-18T15:29:50.191002Z",
     "iopub.status.idle": "2024-12-18T15:29:50.194785Z",
     "shell.execute_reply": "2024-12-18T15:29:50.194055Z"
    }
   },
   "outputs": [],
   "source": [
    "# set metrics to track individual loss components \n",
    "metrics = LossMetrics(loss_func.metric_names)"
   ]
  },
  {
   "cell_type": "code",
   "execution_count": null,
   "id": "3e2ce324",
   "metadata": {
    "execution": {
     "iopub.execute_input": "2024-12-18T15:29:50.197179Z",
     "iopub.status.busy": "2024-12-18T15:29:50.196620Z",
     "iopub.status.idle": "2024-12-18T15:29:50.200198Z",
     "shell.execute_reply": "2024-12-18T15:29:50.199495Z"
    }
   },
   "outputs": [],
   "source": [
    "# set file name and tracking information to store training metrics\n",
    "fname = 'FMD_to_Hagen_all'\n",
    "cbs = CSVLogger(fname=fname+'.csv')"
   ]
  },
  {
   "cell_type": "code",
   "execution_count": null,
   "id": "ffa092f8",
   "metadata": {
    "execution": {
     "iopub.execute_input": "2024-12-18T15:29:50.203517Z",
     "iopub.status.busy": "2024-12-18T15:29:50.202726Z",
     "iopub.status.idle": "2024-12-18T15:29:50.206393Z",
     "shell.execute_reply": "2024-12-18T15:29:50.205999Z"
    }
   },
   "outputs": [],
   "source": [
    "# define model architecture and parameters, pretrained true freezes layers, enabling fine tuning\n",
    "def create_gen_learner():\n",
    "    return unet_learner(dls_den, bbone, loss_func=loss_func, blur=True, norm_type=NormType.Weight, \n",
    "                        self_attention=True, y_range=y_range, pretrained=True, weights=None,\n",
    "                        metrics=metrics, cbs=cbs\n",
    "                        )"
   ]
  },
  {
   "cell_type": "code",
   "execution_count": null,
   "id": "56a3c67b",
   "metadata": {
    "execution": {
     "iopub.execute_input": "2024-12-18T15:29:50.208183Z",
     "iopub.status.busy": "2024-12-18T15:29:50.208045Z",
     "iopub.status.idle": "2024-12-18T15:29:54.938086Z",
     "shell.execute_reply": "2024-12-18T15:29:54.937377Z"
    }
   },
   "outputs": [],
   "source": [
    "# create denoising learner, load Baseline_FMD model, convert to fp16\n",
    "learn_den = create_gen_learner()\n",
    "learn_den.load('Basemodel_FMD').to_fp16()\n",
    "learn_den.summary() # to check that layers are frozen"
   ]
  },
  {
   "cell_type": "code",
   "execution_count": null,
   "id": "ac7d5e3a-60e0-433f-8b31-b9c9efadea8e",
   "metadata": {
    "execution": {
     "iopub.execute_input": "2024-12-18T15:29:54.940778Z",
     "iopub.status.busy": "2024-12-18T15:29:54.940615Z",
     "iopub.status.idle": "2024-12-18T15:30:50.529711Z",
     "shell.execute_reply": "2024-12-18T15:30:50.528527Z"
    }
   },
   "outputs": [],
   "source": [
    "# learning rate finder to set proper learning rate - high slope for loss\n",
    "learn_den.lr_find()"
   ]
  },
  {
   "cell_type": "code",
   "execution_count": null,
   "id": "a9201068",
   "metadata": {
    "execution": {
     "iopub.execute_input": "2024-12-18T15:30:50.536407Z",
     "iopub.status.busy": "2024-12-18T15:30:50.536146Z",
     "iopub.status.idle": "2024-12-19T01:42:27.625650Z",
     "shell.execute_reply": "2024-12-19T01:42:27.624829Z"
    }
   },
   "outputs": [],
   "source": [
    "# training using the finetune function, which trains using frozen (5 epochs) and unfrozen weights (45 epochs) \n",
    "learn_den.fine_tune(95,2e-4,wd=wd,freeze_epochs=5)"
   ]
  },
  {
   "cell_type": "code",
   "execution_count": null,
   "id": "36a47f35",
   "metadata": {
    "execution": {
     "iopub.execute_input": "2024-12-19T01:42:27.629523Z",
     "iopub.status.busy": "2024-12-19T01:42:27.629193Z",
     "iopub.status.idle": "2024-12-19T01:42:32.563135Z",
     "shell.execute_reply": "2024-12-19T01:42:32.562526Z"
    }
   },
   "outputs": [],
   "source": [
    "# save model\n",
    "learn_den.save(fname)"
   ]
  }
 ],
 "metadata": {
  "kernelspec": {
   "display_name": "Python 3 (ipykernel)",
   "language": "python",
   "name": "python3"
  },
  "language_info": {
   "codemirror_mode": {
    "name": "ipython",
    "version": 3
   },
   "file_extension": ".py",
   "mimetype": "text/x-python",
   "name": "python",
   "nbconvert_exporter": "python",
   "pygments_lexer": "ipython3",
   "version": "3.10.13"
  }
 },
 "nbformat": 4,
 "nbformat_minor": 5
}
