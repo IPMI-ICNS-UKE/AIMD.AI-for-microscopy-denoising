{
 "cells": [
  {
   "cell_type": "code",
   "execution_count": 1,
   "id": "1d20904c-fd09-41d7-850f-471fc6c7d8a8",
   "metadata": {},
   "outputs": [],
   "source": [
    "import numpy as np\n",
    "import pathlib\n",
    "import os\n",
    "import re\n",
    "import math\n",
    "import imageio\n",
    "from skimage.metrics import structural_similarity as ssim\n",
    "from scipy.optimize import minimize\n",
    "import matplotlib.pyplot as plt\n",
    "import cv2  "
   ]
  },
  {
   "cell_type": "code",
   "execution_count": 2,
   "id": "6ebbdf97-9a09-42df-9fe7-c7779ff9df54",
   "metadata": {},
   "outputs": [],
   "source": [
    "# Set the folder path where images are located and the tile size\n",
    "path = pathlib.Path(os.getcwd())\n",
    "path_gt = path/'Hagen_testmix/gt_images'\n",
    "path_noisy = path/'Hagen_testmix/noisy_images'\n",
    "path_Base = path/'Hagen_testmix/Hagen_pred_images'\n",
    "path_Transfer = path/'Hagen_testmix/Transfer_pred_images'\n",
    "path_Transfer_all = path/'Hagen_testmix/Transfer_all_pred_images'\n",
    "samples = ['actin-20x-noise1','actin-60x-noise1','actin-60x-noise2','mito-20x-noise1','mito-60x-noise1','mito-60x-noise2',\n",
    "           'actin-confocal','mito-confocal','nucleus','membrane']"
   ]
  },
  {
   "cell_type": "code",
   "execution_count": 3,
   "id": "cc3a1833-2a96-4228-ba84-31f0040f3a14",
   "metadata": {},
   "outputs": [],
   "source": [
    "def natural_sort(l): \n",
    "    convert = lambda text: int(text) if text.isdigit() else text.lower()\n",
    "    alphanum_key = lambda key: [convert(c) for c in re.split('([0-9]+)', key)]\n",
    "    return sorted(l, key=alphanum_key)"
   ]
  },
  {
   "cell_type": "code",
   "execution_count": 42,
   "id": "9726a9b0-a4d5-40a0-86b4-fe95a2b7dd95",
   "metadata": {},
   "outputs": [],
   "source": [
    "# scale and shift as described by Weigert et al\n",
    "def scale_and_shift(image1,image2):\n",
    "    \n",
    "    y = np.array(image2/(2**16-1))        # gt, already percentile normalized in image_to_tiles\n",
    "    y_hat = np.array(image1/(2**16-1))\n",
    "    \n",
    "    def mse_fn(params):\n",
    "        a, b = params\n",
    "        y_hat_scaled = a*y_hat+b\n",
    "        mse = np.mean((y-y_hat_scaled)**2)\n",
    "        return mse\n",
    "\n",
    "    initial_guess = [1.0, 0.0]\n",
    "    boundaries = [(-20,20),(-1,1)]\n",
    "\n",
    "    result = minimize(mse_fn,initial_guess,bounds=boundaries)\n",
    "\n",
    "    if result.success:\n",
    "        optimized_a,optimized_b = result.x\n",
    "        y_hat_scaled = optimized_a*y_hat+optimized_b\n",
    "        return optimized_a,optimized_b,y_hat_scaled\n",
    "    else:\n",
    "        raise Exception(\"optimization failed:\" + result.message)"
   ]
  },
  {
   "cell_type": "code",
   "execution_count": 46,
   "id": "7aa71181-7bbe-4a8a-b791-8cae6b2451ac",
   "metadata": {},
   "outputs": [],
   "source": [
    "# applying scale and shift as in the paper by Hagen et al.\n",
    "def calculate_ssim_and_psnr(image1_path, image2_path, scale=True):\n",
    "    # Read the two images\n",
    "    image1 = imageio.v2.imread(image1_path)\n",
    "    image2 = imageio.v2.imread(image2_path)\n",
    "\n",
    "    # Convert images to grayscale (if they are not already)\n",
    "    if len(image1.shape) == 3:\n",
    "        image1 = image1[:,:,0]\n",
    "    if len(image2.shape) == 3:\n",
    "        image2 = image2[:,:,0]\n",
    "\n",
    "    if scale:    # scale and shift according to Weigert et al and Hagen et al\n",
    "        a,b,image1 = scale_and_shift(image1,image2)\n",
    "        image2 = image2/(2**16-1)\n",
    "    else:\n",
    "        image1 = image1/(2**16-1)\n",
    "        image2 = image2/(2**16-1)\n",
    "    \n",
    "    # Calculate SSIM\n",
    "    ssim_value = ssim(image1, image2, data_range=1)   \n",
    "    \n",
    "    # Calculate PSNR\n",
    "    def calculate_psnr(img1, img2):\n",
    "        # img1 and img2 have range [0, 1] after normalization\n",
    "        img1 = img1.astype(np.float64)\n",
    "        img2 = img2.astype(np.float64)\n",
    "        mse = np.mean((img1 - img2)**2)\n",
    "        if mse == 0:\n",
    "            return float('inf')\n",
    "        return 10 * math.log10(1 / mse)                        # like in Hagen et al           \n",
    "    \n",
    "    psnr_value = calculate_psnr(image1, image2)\n",
    "\n",
    "    return ssim_value, psnr_value"
   ]
  },
  {
   "cell_type": "code",
   "execution_count": 47,
   "id": "fef0a496-d7d0-4f1a-9352-ef252f17effe",
   "metadata": {
    "scrolled": true
   },
   "outputs": [
    {
     "name": "stdout",
     "output_type": "stream",
     "text": [
      "actin-20x-noise1 - mean psnr: 24.182226401084524 and ssim: 0.34010388845896317\n",
      "actin-60x-noise1 - mean psnr: 28.018827627070557 and ssim: 0.5304814135816318\n",
      "actin-60x-noise2 - mean psnr: 18.419397063476794 and ssim: 0.17301112244882638\n",
      "mito-20x-noise1 - mean psnr: 24.56299345060747 and ssim: 0.3535035408820367\n",
      "mito-60x-noise1 - mean psnr: 27.9901587663801 and ssim: 0.5111835995572737\n",
      "mito-60x-noise2 - mean psnr: 20.070719179734148 and ssim: 0.27942751489825485\n",
      "actin-confocal - mean psnr: 24.720339297032304 and ssim: 0.5360678350740622\n",
      "mito-confocal - mean psnr: 22.153394978903798 and ssim: 0.36869273970545297\n",
      "nucleus - mean psnr: 24.717197906773343 and ssim: 0.38500256763880925\n",
      "membrane - mean psnr: 29.468907158408722 and ssim: 0.6055796458614249\n"
     ]
    }
   ],
   "source": [
    "# get metrics for original noise images - derived as published\n",
    "all_ssim = []\n",
    "all_psnr = []\n",
    "for i,sample in enumerate(samples):\n",
    "    gt = natural_sort(os.listdir(path_gt/sample))    \n",
    "    for j,fn in enumerate(gt):\n",
    "       temp1, temp2 = calculate_ssim_and_psnr(path_noisy/sample/fn,path_gt/sample/fn,scale=True)\n",
    "       all_ssim.append(temp1)\n",
    "       all_psnr.append(temp2)\n",
    "       if j==len(gt)-1:\n",
    "           print(f'{sample} - mean psnr: {np.mean(all_psnr)} and ssim: {np.mean(all_ssim)}')\n",
    "           all_ssim = []\n",
    "           all_psnr = []"
   ]
  },
  {
   "cell_type": "code",
   "execution_count": 48,
   "id": "035ee632-7870-4bf1-b71b-46e344c94ff6",
   "metadata": {},
   "outputs": [
    {
     "name": "stdout",
     "output_type": "stream",
     "text": [
      "actin-20x-noise1 - mean psnr: 30.96925860061407 and ssim: 0.852369390159625\n",
      "actin-60x-noise1 - mean psnr: 37.3599160164852 and ssim: 0.9369299803679553\n",
      "actin-60x-noise2 - mean psnr: 25.98550279371081 and ssim: 0.37660686616304656\n",
      "mito-20x-noise1 - mean psnr: 31.001375266968118 and ssim: 0.8671067178815471\n",
      "mito-60x-noise1 - mean psnr: 35.437710455404364 and ssim: 0.916340112839541\n",
      "mito-60x-noise2 - mean psnr: 25.40079377926142 and ssim: 0.45936460402647894\n",
      "actin-confocal - mean psnr: 26.774895445107184 and ssim: 0.6583979555378257\n",
      "mito-confocal - mean psnr: 26.354641927265448 and ssim: 0.5936610323601016\n",
      "nucleus - mean psnr: 32.886455733822544 and ssim: 0.8230383899772076\n",
      "membrane - mean psnr: 26.390798735601788 and ssim: 0.700782708753576\n"
     ]
    }
   ],
   "source": [
    "# get metrics for Base model predictions\n",
    "all_ssim = []\n",
    "all_psnr = []\n",
    "for i,sample in enumerate(samples):\n",
    "    gt = natural_sort(os.listdir(path_gt/sample))    \n",
    "    for j,fn in enumerate(gt):\n",
    "       temp1, temp2 = calculate_ssim_and_psnr(path_Base/sample/fn,path_gt/sample/fn,scale=True)\n",
    "       all_ssim.append(temp1)\n",
    "       all_psnr.append(temp2)\n",
    "       if j==len(gt)-1:\n",
    "           print(f'{sample} - mean psnr: {np.mean(all_psnr)} and ssim: {np.mean(all_ssim)}')\n",
    "           all_ssim = []\n",
    "           all_psnr = []"
   ]
  },
  {
   "cell_type": "code",
   "execution_count": 49,
   "id": "510195c8-4fe5-43ca-8555-70933c1f96de",
   "metadata": {},
   "outputs": [
    {
     "name": "stdout",
     "output_type": "stream",
     "text": [
      "actin-20x-noise1 - mean psnr: 31.1558460177804 and ssim: 0.8533185278848364\n",
      "actin-60x-noise1 - mean psnr: 37.18237011820437 and ssim: 0.9342779377375436\n",
      "actin-60x-noise2 - mean psnr: 25.528760712283642 and ssim: 0.41558914545521386\n",
      "mito-20x-noise1 - mean psnr: 31.156383310311224 and ssim: 0.8666675001313242\n",
      "mito-60x-noise1 - mean psnr: 36.28286911728979 and ssim: 0.9265478216947596\n",
      "mito-60x-noise2 - mean psnr: 25.054041972385335 and ssim: 0.4296295498342161\n",
      "actin-confocal - mean psnr: 26.777906284365226 and ssim: 0.6447100876682481\n",
      "mito-confocal - mean psnr: 25.964845490280283 and ssim: 0.5549174238519694\n",
      "nucleus - mean psnr: 32.889848241152166 and ssim: 0.818500065776732\n",
      "membrane - mean psnr: 30.875898064903897 and ssim: 0.7764634722846614\n"
     ]
    }
   ],
   "source": [
    "# get metrics for Transfer model predictions\n",
    "all_ssim = []\n",
    "all_psnr = []\n",
    "for i,sample in enumerate(samples):\n",
    "    gt = natural_sort(os.listdir(path_gt/sample))    \n",
    "    for j,fn in enumerate(gt):\n",
    "       temp1, temp2 = calculate_ssim_and_psnr(path_Transfer/sample/fn,path_gt/sample/fn,scale=True)\n",
    "       all_ssim.append(temp1)\n",
    "       all_psnr.append(temp2)\n",
    "       if j==len(gt)-1:\n",
    "           print(f'{sample} - mean psnr: {np.mean(all_psnr)} and ssim: {np.mean(all_ssim)}')\n",
    "           all_ssim = []\n",
    "           all_psnr = []"
   ]
  },
  {
   "cell_type": "code",
   "execution_count": 50,
   "id": "7f2f2fe3-ff7f-4ddf-b0f9-d58ebe69014c",
   "metadata": {},
   "outputs": [
    {
     "name": "stdout",
     "output_type": "stream",
     "text": [
      "actin-20x-noise1 - mean psnr: 32.03840591725487 and ssim: 0.8939877509776692\n",
      "actin-60x-noise1 - mean psnr: 37.13776365613062 and ssim: 0.9394228356898008\n",
      "actin-60x-noise2 - mean psnr: 28.517065691280823 and ssim: 0.8024370869225026\n",
      "mito-20x-noise1 - mean psnr: 32.730079630080176 and ssim: 0.9189335023373463\n",
      "mito-60x-noise1 - mean psnr: 37.83894219525592 and ssim: 0.95417317132584\n",
      "mito-60x-noise2 - mean psnr: 27.80357488396706 and ssim: 0.8414408238185704\n",
      "actin-confocal - mean psnr: 28.399907610259888 and ssim: 0.8177768531907466\n",
      "mito-confocal - mean psnr: 26.20430408355928 and ssim: 0.6881366830584542\n",
      "nucleus - mean psnr: 34.707298484096334 and ssim: 0.8704846185685899\n",
      "membrane - mean psnr: 35.208937614166885 and ssim: 0.9235279675236173\n"
     ]
    }
   ],
   "source": [
    "# get metrics for Transfer model predictions\n",
    "all_ssim = []\n",
    "all_psnr = []\n",
    "for i,sample in enumerate(samples):\n",
    "    gt = natural_sort(os.listdir(path_gt/sample))    \n",
    "    for j,fn in enumerate(gt):\n",
    "       temp1, temp2 = calculate_ssim_and_psnr(path_Transfer_all/sample/fn,path_gt/sample/fn,scale=True)\n",
    "       all_ssim.append(temp1)\n",
    "       all_psnr.append(temp2)\n",
    "       if j==len(gt)-1:\n",
    "           print(f'{sample} - mean psnr: {np.mean(all_psnr)} and ssim: {np.mean(all_ssim)}')\n",
    "           all_ssim = []\n",
    "           all_psnr = []"
   ]
  }
 ],
 "metadata": {
  "kernelspec": {
   "display_name": "Python 3 (ipykernel)",
   "language": "python",
   "name": "python3"
  },
  "language_info": {
   "codemirror_mode": {
    "name": "ipython",
    "version": 3
   },
   "file_extension": ".py",
   "mimetype": "text/x-python",
   "name": "python",
   "nbconvert_exporter": "python",
   "pygments_lexer": "ipython3",
   "version": "3.10.13"
  }
 },
 "nbformat": 4,
 "nbformat_minor": 5
}
