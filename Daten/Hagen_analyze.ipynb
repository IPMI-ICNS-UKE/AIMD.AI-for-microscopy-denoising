{
 "cells": [
  {
   "cell_type": "code",
   "execution_count": null,
   "id": "1d20904c-fd09-41d7-850f-471fc6c7d8a8",
   "metadata": {},
   "outputs": [],
   "source": [
    "import numpy as np\n",
    "import pathlib\n",
    "import os\n",
    "import re\n",
    "import math\n",
    "import imageio\n",
    "from skimage.metrics import structural_similarity as ssim\n",
    "from scipy.optimize import minimize\n",
    "import matplotlib.pyplot as plt\n",
    "import cv2  "
   ]
  },
  {
   "cell_type": "code",
   "execution_count": null,
   "id": "6ebbdf97-9a09-42df-9fe7-c7779ff9df54",
   "metadata": {},
   "outputs": [],
   "source": [
    "# Set the folder path where images are located and the tile size\n",
    "path = pathlib.Path(os.getcwd())\n",
    "path_gt = path/'Hagen_testmix/gt_images'\n",
    "path_noisy = path/'Hagen_testmix/noisy_images'\n",
    "path_Base = path/'Hagen_testmix/Hagen_pred_images'\n",
    "path_Transfer = path/'Hagen_testmix/Transfer_pred_images'\n",
    "path_Transfer_all = path/'Hagen_testmix/Transfer_all_pred_images'\n",
    "samples = ['actin-20x-noise1','actin-60x-noise1','actin-60x-noise2','mito-20x-noise1','mito-60x-noise1','mito-60x-noise2',\n",
    "           'actin-confocal','mito-confocal','nucleus','membrane']"
   ]
  },
  {
   "cell_type": "code",
   "execution_count": null,
   "id": "cc3a1833-2a96-4228-ba84-31f0040f3a14",
   "metadata": {},
   "outputs": [],
   "source": [
    "def natural_sort(l): \n",
    "    convert = lambda text: int(text) if text.isdigit() else text.lower()\n",
    "    alphanum_key = lambda key: [convert(c) for c in re.split('([0-9]+)', key)]\n",
    "    return sorted(l, key=alphanum_key)"
   ]
  },
  {
   "cell_type": "code",
   "execution_count": null,
   "id": "9726a9b0-a4d5-40a0-86b4-fe95a2b7dd95",
   "metadata": {},
   "outputs": [],
   "source": [
    "# scale and shift as described by Weigert et al\n",
    "def scale_and_shift(image1,image2):\n",
    "    \n",
    "    y = np.array(image2/(2**16-1))        # gt, already percentile normalized in image_to_tiles\n",
    "    y_hat = np.array(image1/(2**16-1))\n",
    "    \n",
    "    def mse_fn(params):\n",
    "        a, b = params\n",
    "        y_hat_scaled = a*y_hat+b\n",
    "        mse = np.mean((y-y_hat_scaled)**2)\n",
    "        return mse\n",
    "\n",
    "    initial_guess = [1.0, 0.0]\n",
    "    boundaries = [(-20,20),(-1,1)]\n",
    "\n",
    "    result = minimize(mse_fn,initial_guess,bounds=boundaries)\n",
    "\n",
    "    if result.success:\n",
    "        optimized_a,optimized_b = result.x\n",
    "        y_hat_scaled = optimized_a*y_hat+optimized_b\n",
    "        return optimized_a,optimized_b,y_hat_scaled\n",
    "    else:\n",
    "        raise Exception(\"optimization failed:\" + result.message)"
   ]
  },
  {
   "cell_type": "code",
   "execution_count": null,
   "id": "7aa71181-7bbe-4a8a-b791-8cae6b2451ac",
   "metadata": {},
   "outputs": [],
   "source": [
    "# applying scale and shift as in the paper by Hagen et al.\n",
    "def calculate_ssim_and_psnr(image1_path, image2_path, scale=True):\n",
    "    # Read the two images\n",
    "    image1 = imageio.v2.imread(image1_path)\n",
    "    image2 = imageio.v2.imread(image2_path)\n",
    "\n",
    "    # Convert images to grayscale (if they are not already)\n",
    "    if len(image1.shape) == 3:\n",
    "        image1 = image1[:,:,0]\n",
    "    if len(image2.shape) == 3:\n",
    "        image2 = image2[:,:,0]\n",
    "\n",
    "    if scale:    # scale and shift according to Weigert et al and Hagen et al\n",
    "        a,b,image1 = scale_and_shift(image1,image2)\n",
    "        image2 = image2/(2**16-1)\n",
    "    else:\n",
    "        image1 = image1/(2**16-1)\n",
    "        image2 = image2/(2**16-1)\n",
    "    \n",
    "    # Calculate SSIM\n",
    "    ssim_value = ssim(image1, image2, data_range=1)   \n",
    "    \n",
    "    # Calculate PSNR\n",
    "    def calculate_psnr(img1, img2):\n",
    "        # img1 and img2 have range [0, 1] after normalization\n",
    "        img1 = img1.astype(np.float64)\n",
    "        img2 = img2.astype(np.float64)\n",
    "        mse = np.mean((img1 - img2)**2)\n",
    "        if mse == 0:\n",
    "            return float('inf')\n",
    "        return 10 * math.log10(1 / mse)                        # like in Hagen et al           \n",
    "    \n",
    "    psnr_value = calculate_psnr(image1, image2)\n",
    "\n",
    "    return ssim_value, psnr_value"
   ]
  },
  {
   "cell_type": "code",
   "execution_count": null,
   "id": "fef0a496-d7d0-4f1a-9352-ef252f17effe",
   "metadata": {},
   "outputs": [],
   "source": [
    "# get metrics for original noise images - derived as published\n",
    "all_ssim = []\n",
    "all_psnr = []\n",
    "for i,sample in enumerate(samples):\n",
    "    gt = natural_sort(os.listdir(path_gt/sample))    \n",
    "    for j,fn in enumerate(gt):\n",
    "       temp1, temp2 = calculate_ssim_and_psnr(path_noisy/sample/fn,path_gt/sample/fn,scale=True)\n",
    "       all_ssim.append(temp1)\n",
    "       all_psnr.append(temp2)\n",
    "       if j==len(gt)-1:\n",
    "           print(f'{sample} - mean psnr: {np.mean(all_psnr)} and ssim: {np.mean(all_ssim)}')\n",
    "           all_ssim = []\n",
    "           all_psnr = []"
   ]
  },
  {
   "cell_type": "code",
   "execution_count": null,
   "id": "035ee632-7870-4bf1-b71b-46e344c94ff6",
   "metadata": {},
   "outputs": [],
   "source": [
    "# get metrics for Base model predictions\n",
    "all_ssim = []\n",
    "all_psnr = []\n",
    "for i,sample in enumerate(samples):\n",
    "    gt = natural_sort(os.listdir(path_gt/sample))    \n",
    "    for j,fn in enumerate(gt):\n",
    "       temp1, temp2 = calculate_ssim_and_psnr(path_Base/sample/fn,path_gt/sample/fn,scale=True)\n",
    "       all_ssim.append(temp1)\n",
    "       all_psnr.append(temp2)\n",
    "       if j==len(gt)-1:\n",
    "           print(f'{sample} - mean psnr: {np.mean(all_psnr)} and ssim: {np.mean(all_ssim)}')\n",
    "           all_ssim = []\n",
    "           all_psnr = []"
   ]
  },
  {
   "cell_type": "code",
   "execution_count": null,
   "id": "510195c8-4fe5-43ca-8555-70933c1f96de",
   "metadata": {},
   "outputs": [],
   "source": [
    "# get metrics for Transfer model predictions\n",
    "all_ssim = []\n",
    "all_psnr = []\n",
    "for i,sample in enumerate(samples):\n",
    "    gt = natural_sort(os.listdir(path_gt/sample))    \n",
    "    for j,fn in enumerate(gt):\n",
    "       temp1, temp2 = calculate_ssim_and_psnr(path_Transfer/sample/fn,path_gt/sample/fn,scale=True)\n",
    "       all_ssim.append(temp1)\n",
    "       all_psnr.append(temp2)\n",
    "       if j==len(gt)-1:\n",
    "           print(f'{sample} - mean psnr: {np.mean(all_psnr)} and ssim: {np.mean(all_ssim)}')\n",
    "           all_ssim = []\n",
    "           all_psnr = []"
   ]
  },
  {
   "cell_type": "code",
   "execution_count": null,
   "id": "7f2f2fe3-ff7f-4ddf-b0f9-d58ebe69014c",
   "metadata": {},
   "outputs": [],
   "source": [
    "# get metrics for Transfer model predictions\n",
    "all_ssim = []\n",
    "all_psnr = []\n",
    "for i,sample in enumerate(samples):\n",
    "    gt = natural_sort(os.listdir(path_gt/sample))    \n",
    "    for j,fn in enumerate(gt):\n",
    "       temp1, temp2 = calculate_ssim_and_psnr(path_Transfer_all/sample/fn,path_gt/sample/fn,scale=True)\n",
    "       all_ssim.append(temp1)\n",
    "       all_psnr.append(temp2)\n",
    "       if j==len(gt)-1:\n",
    "           print(f'{sample} - mean psnr: {np.mean(all_psnr)} and ssim: {np.mean(all_ssim)}')\n",
    "           all_ssim = []\n",
    "           all_psnr = []"
   ]
  }
 ],
 "metadata": {
  "kernelspec": {
   "display_name": "Python 3 (ipykernel)",
   "language": "python",
   "name": "python3"
  },
  "language_info": {
   "codemirror_mode": {
    "name": "ipython",
    "version": 3
   },
   "file_extension": ".py",
   "mimetype": "text/x-python",
   "name": "python",
   "nbconvert_exporter": "python",
   "pygments_lexer": "ipython3",
   "version": "3.10.13"
  }
 },
 "nbformat": 4,
 "nbformat_minor": 5
}
