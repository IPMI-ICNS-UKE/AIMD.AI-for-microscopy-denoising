{
 "cells": [
  {
   "cell_type": "code",
   "execution_count": null,
   "id": "fbe5ea6e-07db-493c-b045-96e599f00021",
   "metadata": {},
   "outputs": [],
   "source": [
    "import glob\n",
    "import os\n",
    "import pathlib\n",
    "import cv2\n",
    "import numpy as np\n",
    "import re\n",
    "import matplotlib.pyplot as plt\n",
    "from pathlib import Path"
   ]
  },
  {
   "cell_type": "code",
   "execution_count": null,
   "id": "030f4ee7-8bce-449f-b047-b8dc43ad06fc",
   "metadata": {},
   "outputs": [],
   "source": [
    "def natural_sort(l): \n",
    "    convert = lambda text: int(text) if text.isdigit() else text.lower()\n",
    "    alphanum_key = lambda key: [convert(c) for c in re.split('([0-9]+)', key)]\n",
    "    return sorted(l, key=alphanum_key)"
   ]
  },
  {
   "cell_type": "code",
   "execution_count": null,
   "id": "befa7f34-f2cc-4e6d-b36e-bf7f3b7076e9",
   "metadata": {},
   "outputs": [],
   "source": [
    "def recreate_image_from_patches(patches, img_size, overlap, patch_size=256):\n",
    "    \n",
    "    reconstructed_image = np.zeros((img_size, img_size), dtype=np.float32) \n",
    "    patch_count = np.zeros((img_size, img_size), dtype=np.float32)\n",
    "\n",
    "    step = patch_size - overlap\n",
    "    idx = 0\n",
    "    \n",
    "    for y in range(0, img_size - patch_size + 1, step):\n",
    "        for x in range(0, img_size - patch_size + 1, step):\n",
    "            reconstructed_image[y:y + patch_size, x:x + patch_size] += patches[idx]\n",
    "            patch_count[y:y + patch_size, x:x + patch_size] += 1\n",
    "            idx += 1\n",
    "    \n",
    "    # Avoid division by zero\n",
    "    patch_count[patch_count == 0] = 1e-10\n",
    "    \n",
    "    reconstructed_image //= patch_count  # Averaging the pixel values    \n",
    "    return reconstructed_image"
   ]
  },
  {
   "cell_type": "code",
   "execution_count": null,
   "id": "9a891fb0-ebac-4a07-bc8f-a79f36f5643c",
   "metadata": {},
   "outputs": [],
   "source": [
    "def reconstruct(folder_path, original_filename, tile_size, tag):\n",
    "    # Reconstructs an image from its tiles.   \n",
    "    new_folder = Path(folder_path)\n",
    "    new_folder = os.path.join(new_folder.parent.absolute(),'denoised_images',tag)\n",
    "    os.makedirs(new_folder,exist_ok=True)\n",
    "    tiles = []\n",
    "\n",
    "    img_size=512\n",
    "    overlap=128\n",
    "    patch_size=tile_size\n",
    "    \n",
    "    # Setting the number of patches based on size\n",
    "    number_of_patches = ((img_size - overlap) // (patch_size - overlap))**2\n",
    "    \n",
    "    # Sort based on tile number to propperly assign patch locations\n",
    "    files = natural_sort(os.listdir(folder_path))\n",
    "    \n",
    "    # Sort tiles based on their filename to maintain order\n",
    "    for filename in files:\n",
    "        if os.path.splitext(original_filename)[0] in filename and tag in filename:\n",
    "            tile_path = os.path.join(folder_path, filename)\n",
    "            tile = cv2.imread(tile_path)\n",
    "            tile = tile[:,:,0]\n",
    "            tiles.append(tile)\n",
    "    \n",
    "    reconstructed_image = recreate_image_from_patches(tiles, img_size, overlap)\n",
    "   \n",
    "    # Save the reconstructed image\n",
    "    output_image_path = os.path.join(new_folder, f'{original_filename}')\n",
    "    print(output_image_path)\n",
    "    cv2.imwrite(output_image_path, reconstructed_image)"
   ]
  },
  {
   "cell_type": "code",
   "execution_count": null,
   "id": "8f6527e2-d922-48c3-9688-c7fab307eed5",
   "metadata": {},
   "outputs": [],
   "source": [
    "# Set the folder path where images are located and the tile size\n",
    "path = pathlib.Path(os.getcwd())\n",
    "FMD_testmix = path/'FMD_testmix'\n",
    "tile_size = 256"
   ]
  },
  {
   "cell_type": "code",
   "execution_count": null,
   "id": "7683cccc-3246-4caf-adb2-60cae36ed952",
   "metadata": {},
   "outputs": [],
   "source": [
    "# Process images of various noise levels \n",
    "noise_levels = ['raw','avg2','avg4','avg8','avg16']\n",
    "for i in noise_levels:\n",
    "    print(f'working on {i} images')\n",
    "    fn = sorted(os.listdir(FMD_testmix/i))\n",
    "    for j in fn:\n",
    "        reconstruct(FMD_testmix/'FMD_pred_tiles',j,tile_size,i)"
   ]
  }
 ],
 "metadata": {
  "kernelspec": {
   "display_name": "Python 3 (ipykernel)",
   "language": "python",
   "name": "python3"
  },
  "language_info": {
   "codemirror_mode": {
    "name": "ipython",
    "version": 3
   },
   "file_extension": ".py",
   "mimetype": "text/x-python",
   "name": "python",
   "nbconvert_exporter": "python",
   "pygments_lexer": "ipython3",
   "version": "3.10.13"
  }
 },
 "nbformat": 4,
 "nbformat_minor": 5
}
