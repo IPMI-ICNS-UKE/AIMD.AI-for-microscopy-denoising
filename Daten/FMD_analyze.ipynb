{
 "cells": [
  {
   "cell_type": "code",
   "execution_count": null,
   "id": "1d20904c-fd09-41d7-850f-471fc6c7d8a8",
   "metadata": {},
   "outputs": [],
   "source": [
    "import numpy as np\n",
    "import pathlib\n",
    "import os\n",
    "import math\n",
    "from skimage import io\n",
    "from skimage.metrics import structural_similarity as ssim\n",
    "import cv2  "
   ]
  },
  {
   "cell_type": "code",
   "execution_count": null,
   "id": "7aa71181-7bbe-4a8a-b791-8cae6b2451ac",
   "metadata": {},
   "outputs": [],
   "source": [
    "def calculate_ssim_and_psnr(image1_path, image2_path):\n",
    "    # Read the two images\n",
    "    image1 = io.imread(image1_path)\n",
    "    image2 = io.imread(image2_path)\n",
    "\n",
    "    # Convert images to grayscale (if they are not already)\n",
    "    if len(image1.shape) == 3:\n",
    "        image1 = image1[:,:,0]\n",
    "    if len(image2.shape) == 3:\n",
    "        image2 = image2[:,:,0]\n",
    "\n",
    "    # Calculate SSIM\n",
    "    ssim_value = ssim(image1, image2, data_range=2**8-1) \n",
    "    \n",
    "    # Calculate PSNR\n",
    "    def calculate_psnr(img1, img2):\n",
    "        # img1 and img2 have range [0, 255], 8 bit\n",
    "        img1 = img1.astype(np.float64)\n",
    "        img2 = img2.astype(np.float64)\n",
    "        mse = np.mean((img1 - img2)**2)\n",
    "        if mse == 0:\n",
    "            return float('inf')\n",
    "        return 20 * math.log10(255 / math.sqrt(mse))        \n",
    "    \n",
    "    psnr_value = calculate_psnr(image1, image2)\n",
    "\n",
    "    return ssim_value, psnr_value"
   ]
  },
  {
   "cell_type": "code",
   "execution_count": null,
   "id": "bc2568f5-0274-49d0-a64c-a93cffc8185d",
   "metadata": {},
   "outputs": [],
   "source": [
    "# Set the folder path where images are located and the tile size\n",
    "path = pathlib.Path(os.getcwd())\n",
    "FMD_testmix = path/'FMD_testmix'\n",
    "noise_levels = ['raw','avg2','avg4','avg8','avg16']"
   ]
  },
  {
   "cell_type": "code",
   "execution_count": null,
   "id": "fef0a496-d7d0-4f1a-9352-ef252f17effe",
   "metadata": {},
   "outputs": [],
   "source": [
    "# get metrics for original noise images\n",
    "all_ssim = []\n",
    "all_psnr = []\n",
    "for i,levels in enumerate(noise_levels):\n",
    "    files = sorted(os.listdir(FMD_testmix/levels))\n",
    "    for j,fn in enumerate(files):\n",
    "       temp1, temp2 = calculate_ssim_and_psnr(FMD_testmix/levels/fn,FMD_testmix/'gt'/fn)\n",
    "       all_ssim.append(temp1)\n",
    "       all_psnr.append(temp2)\n",
    "       if j==len(files)-1:\n",
    "           print(f'{levels} - mean psnr: {np.mean(all_psnr)} and ssim: {np.mean(all_ssim)}')\n",
    "           all_ssim = []\n",
    "           all_psnr = []"
   ]
  },
  {
   "cell_type": "code",
   "execution_count": null,
   "id": "035ee632-7870-4bf1-b71b-46e344c94ff6",
   "metadata": {},
   "outputs": [],
   "source": [
    "# get metrics for model predictions\n",
    "all_ssim = []\n",
    "all_psnr = []\n",
    "for i,levels in enumerate(noise_levels):\n",
    "    files = sorted(os.listdir(FMD_testmix/'denoised_images'/levels))\n",
    "    for j,fn in enumerate(files):\n",
    "       temp1, temp2 = calculate_ssim_and_psnr(FMD_testmix/'denoised_images'/levels/fn,FMD_testmix/'gt'/fn)\n",
    "       all_ssim.append(temp1)\n",
    "       all_psnr.append(temp2)\n",
    "       if j==len(files)-1:\n",
    "           print(f'{levels} - mean psnr: {np.mean(all_psnr)} and ssim: {np.mean(all_ssim)}')\n",
    "           all_ssim = []\n",
    "           all_psnr = []"
   ]
  }
 ],
 "metadata": {
  "kernelspec": {
   "display_name": "Python 3 (ipykernel)",
   "language": "python",
   "name": "python3"
  },
  "language_info": {
   "codemirror_mode": {
    "name": "ipython",
    "version": 3
   },
   "file_extension": ".py",
   "mimetype": "text/x-python",
   "name": "python",
   "nbconvert_exporter": "python",
   "pygments_lexer": "ipython3",
   "version": "3.10.13"
  }
 },
 "nbformat": 4,
 "nbformat_minor": 5
}
