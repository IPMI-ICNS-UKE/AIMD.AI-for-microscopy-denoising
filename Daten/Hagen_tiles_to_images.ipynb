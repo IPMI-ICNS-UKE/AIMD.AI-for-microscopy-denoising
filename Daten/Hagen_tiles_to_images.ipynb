{
 "cells": [
  {
   "cell_type": "code",
   "execution_count": 1,
   "id": "fbe5ea6e-07db-493c-b045-96e599f00021",
   "metadata": {},
   "outputs": [],
   "source": [
    "import os\n",
    "import cv2\n",
    "import pathlib\n",
    "import numpy as np\n",
    "import re\n",
    "import imageio\n",
    "from pathlib import Path"
   ]
  },
  {
   "cell_type": "code",
   "execution_count": 2,
   "id": "b96add66-c822-4191-94d2-ce784d5a9ed3",
   "metadata": {},
   "outputs": [],
   "source": [
    "# Set the folder path where images are located and the tile size\n",
    "path = pathlib.Path(os.getcwd())\n",
    "Hagen_testmix = path/'Hagen_testmix'\n",
    "tile_size = 256\n",
    "samples = ['actin-20x-noise1','actin-60x-noise1','actin-60x-noise2','mito-20x-noise1','mito-60x-noise1','mito-60x-noise2',\n",
    "           'actin-confocal','mito-confocal','nucleus','membrane']"
   ]
  },
  {
   "cell_type": "code",
   "execution_count": 3,
   "id": "fb70827b-84c4-4b21-a590-6c0f74a67e4b",
   "metadata": {},
   "outputs": [],
   "source": [
    "def recreate_image_from_patches(patches, img_size, overlap, patch_size=256):\n",
    "    \n",
    "    reconstructed_image = np.zeros((img_size, img_size), dtype=np.float32) \n",
    "    patch_count = np.zeros((img_size, img_size), dtype=np.float32)\n",
    "\n",
    "    step = patch_size - overlap\n",
    "    idx = 0\n",
    "    \n",
    "    for y in range(0, img_size - patch_size + 1, step):\n",
    "        for x in range(0, img_size - patch_size + 1, step):\n",
    "            reconstructed_image[y:y + patch_size, x:x + patch_size] += patches[idx]\n",
    "            patch_count[y:y + patch_size, x:x + patch_size] += 1\n",
    "            idx += 1\n",
    "    \n",
    "    # Avoid division by zero\n",
    "    patch_count[patch_count == 0] = 1e-10\n",
    "    \n",
    "    reconstructed_image //= patch_count  # Averaging the pixel values    \n",
    "    return reconstructed_image"
   ]
  },
  {
   "cell_type": "code",
   "execution_count": 4,
   "id": "fccb2760-40bd-4a8e-8201-21537ce9078c",
   "metadata": {},
   "outputs": [],
   "source": [
    "def natural_sort(l): \n",
    "    convert = lambda text: int(text) if text.isdigit() else text.lower()\n",
    "    alphanum_key = lambda key: [convert(c) for c in re.split('([0-9]+)', key)]\n",
    "    return sorted(l, key=alphanum_key)"
   ]
  },
  {
   "cell_type": "code",
   "execution_count": 5,
   "id": "9a891fb0-ebac-4a07-bc8f-a79f36f5643c",
   "metadata": {},
   "outputs": [],
   "source": [
    "def reconstruct(folder_path, original_filename, original_shape, folder_out, tag):\n",
    "    # Reconstructs an image from its tiles   \n",
    "    new_folder = Path(folder_path)\n",
    "    new_folder = os.path.join(new_folder.parent.absolute(),f'{folder_out}_images',tag)\n",
    "    os.makedirs(new_folder,exist_ok=True)\n",
    "    tiles = []\n",
    "    patch_size = 256\n",
    "\n",
    "    img_size = original_shape[0]\n",
    "    if img_size==2048:\n",
    "        overlap = 128        # 32 as option\n",
    "    elif img_size==1024:\n",
    "        overlap = 128        # 64 as option\n",
    "    else:\n",
    "        overlap = 128\n",
    "    \n",
    "    # Setting the number of patches based on size\n",
    "    number_of_patches = ((img_size - overlap) // (patch_size - overlap))**2\n",
    "    \n",
    "    # Sort based on tile number to propperly assign patch locations\n",
    "    files = natural_sort(os.listdir(folder_path))\n",
    "    \n",
    "    for filename in files:\n",
    "        if os.path.splitext(original_filename)[0] in filename:            \n",
    "            tile_path = os.path.join(folder_path, filename)\n",
    "            tile = imageio.v2.imread(tile_path)            \n",
    "            tiles.append(tile)    \n",
    "    \n",
    "    reconstructed_image = recreate_image_from_patches(tiles, img_size, overlap)\n",
    "    # Save the reconstructed image\n",
    "    output_image_path = os.path.join(new_folder, f'{original_filename}')\n",
    "    cv2.imwrite(output_image_path, reconstructed_image.astype(np.uint16))"
   ]
  },
  {
   "cell_type": "code",
   "execution_count": 6,
   "id": "7683cccc-3246-4caf-adb2-60cae36ed952",
   "metadata": {
    "scrolled": true
   },
   "outputs": [
    {
     "name": "stdout",
     "output_type": "stream",
     "text": [
      "working on actin-20x-noise1 images\n"
     ]
    },
    {
     "name": "stderr",
     "output_type": "stream",
     "text": [
      "/home/david/mambaforge/lib/python3.10/site-packages/imageio/plugins/pillow.py:320: UserWarning: Loading 16-bit (uint16) PNG as int32 due to limitations in pillow's PNG decoder. This will be fixed in a future version of pillow which will make this warning dissapear.\n",
      "  warnings.warn(\n"
     ]
    },
    {
     "name": "stdout",
     "output_type": "stream",
     "text": [
      "working on actin-60x-noise1 images\n",
      "working on actin-60x-noise2 images\n",
      "working on mito-20x-noise1 images\n",
      "working on mito-60x-noise1 images\n",
      "working on mito-60x-noise2 images\n",
      "working on actin-confocal images\n",
      "working on mito-confocal images\n",
      "working on nucleus images\n",
      "working on membrane images\n"
     ]
    }
   ],
   "source": [
    "# Process images of various samples for Basemodel \n",
    "for i in samples:\n",
    "    print(f'working on {i} images')\n",
    "    fn = sorted(os.listdir(Hagen_testmix/f'gt_images/{i}'))\n",
    "    for j in fn:\n",
    "        ref = imageio.v2.imread(Hagen_testmix/f'gt_images/{i}/{j}')        \n",
    "        reconstruct(Hagen_testmix/'Hagen_pred_tiles', j, np.shape(ref), 'Hagen_pred',i)"
   ]
  },
  {
   "cell_type": "code",
   "execution_count": 7,
   "id": "e4227699-7d6d-490a-999b-181945eb51e3",
   "metadata": {
    "scrolled": true
   },
   "outputs": [
    {
     "name": "stdout",
     "output_type": "stream",
     "text": [
      "working on actin-20x-noise1 images\n",
      "working on actin-60x-noise1 images\n",
      "working on actin-60x-noise2 images\n",
      "working on mito-20x-noise1 images\n",
      "working on mito-60x-noise1 images\n",
      "working on mito-60x-noise2 images\n",
      "working on actin-confocal images\n",
      "working on mito-confocal images\n",
      "working on nucleus images\n",
      "working on membrane images\n"
     ]
    }
   ],
   "source": [
    "# Process images of various samples for Transfer model \n",
    "for i in samples:\n",
    "    print(f'working on {i} images')\n",
    "    fn = sorted(os.listdir(Hagen_testmix/f'gt_images/{i}'))\n",
    "    for j in fn:\n",
    "        ref = imageio.v2.imread(Hagen_testmix/f'gt_images/{i}/{j}')        \n",
    "        reconstruct(Hagen_testmix/'Transfer_pred_tiles', j, np.shape(ref), 'Transfer_pred',i)"
   ]
  },
  {
   "cell_type": "code",
   "execution_count": 8,
   "id": "01195533-fecc-42ed-af32-7057eaadb8ba",
   "metadata": {
    "scrolled": true
   },
   "outputs": [
    {
     "name": "stdout",
     "output_type": "stream",
     "text": [
      "working on actin-20x-noise1 images\n",
      "working on actin-60x-noise1 images\n",
      "working on actin-60x-noise2 images\n",
      "working on mito-20x-noise1 images\n",
      "working on mito-60x-noise1 images\n",
      "working on mito-60x-noise2 images\n",
      "working on actin-confocal images\n",
      "working on mito-confocal images\n",
      "working on nucleus images\n",
      "working on membrane images\n"
     ]
    }
   ],
   "source": [
    "# Process images of various samples for a Transfer model using all Hagen images\n",
    "for i in samples:\n",
    "    print(f'working on {i} images')\n",
    "    fn = sorted(os.listdir(Hagen_testmix/f'gt_images/{i}'))\n",
    "    for j in fn:\n",
    "        ref = imageio.v2.imread(Hagen_testmix/f'gt_images/{i}/{j}')        \n",
    "        reconstruct(Hagen_testmix/'Transfer_all_pred_tiles', j, np.shape(ref), 'Transfer_all_pred',i)"
   ]
  }
 ],
 "metadata": {
  "kernelspec": {
   "display_name": "Python 3 (ipykernel)",
   "language": "python",
   "name": "python3"
  },
  "language_info": {
   "codemirror_mode": {
    "name": "ipython",
    "version": 3
   },
   "file_extension": ".py",
   "mimetype": "text/x-python",
   "name": "python",
   "nbconvert_exporter": "python",
   "pygments_lexer": "ipython3",
   "version": "3.10.13"
  }
 },
 "nbformat": 4,
 "nbformat_minor": 5
}
