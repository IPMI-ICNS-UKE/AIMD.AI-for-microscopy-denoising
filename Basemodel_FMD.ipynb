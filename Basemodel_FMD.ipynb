{
 "cells": [
  {
   "cell_type": "markdown",
   "id": "a08f5141-b6d3-4679-be2e-8d0b5b1334f8",
   "metadata": {},
   "source": [
    "__UNet - perception loss in fastai v2 - Basemodel_FMD__"
   ]
  },
  {
   "cell_type": "code",
   "execution_count": null,
   "id": "529f3d7b-09c2-467f-b2ef-108e9b2fb828",
   "metadata": {
    "execution": {
     "iopub.execute_input": "2024-11-26T14:29:17.554631Z",
     "iopub.status.busy": "2024-11-26T14:29:17.554488Z",
     "iopub.status.idle": "2024-11-26T14:29:20.528569Z",
     "shell.execute_reply": "2024-11-26T14:29:20.527761Z"
    }
   },
   "outputs": [],
   "source": [
    "from fastai.vision.all import *\n",
    "import os\n",
    "import pathlib\n",
    "import fastai; fastai.__version__"
   ]
  },
  {
   "cell_type": "code",
   "execution_count": null,
   "id": "425de756-b3ed-4074-9541-09e1826bd0d3",
   "metadata": {
    "execution": {
     "iopub.execute_input": "2024-11-26T14:29:20.531157Z",
     "iopub.status.busy": "2024-11-26T14:29:20.530885Z",
     "iopub.status.idle": "2024-11-26T14:29:22.669639Z",
     "shell.execute_reply": "2024-11-26T14:29:22.668454Z"
    }
   },
   "outputs": [],
   "source": [
    "torch.cuda.set_device(2)"
   ]
  },
  {
   "cell_type": "code",
   "execution_count": null,
   "id": "a26f1fcc",
   "metadata": {
    "execution": {
     "iopub.execute_input": "2024-11-26T14:29:22.673469Z",
     "iopub.status.busy": "2024-11-26T14:29:22.673023Z",
     "iopub.status.idle": "2024-11-26T14:29:22.678887Z",
     "shell.execute_reply": "2024-11-26T14:29:22.678119Z"
    }
   },
   "outputs": [],
   "source": [
    "torch.cuda.current_device(), torch.cuda.get_device_name(0)"
   ]
  },
  {
   "cell_type": "code",
   "execution_count": null,
   "id": "55f652f4-dc36-49dc-8286-c78980c39e31",
   "metadata": {
    "execution": {
     "iopub.execute_input": "2024-11-26T14:29:22.681596Z",
     "iopub.status.busy": "2024-11-26T14:29:22.681328Z",
     "iopub.status.idle": "2024-11-26T14:29:22.685644Z",
     "shell.execute_reply": "2024-11-26T14:29:22.684533Z"
    }
   },
   "outputs": [],
   "source": [
    "# set to toch.device(\"cpu\"), if you do not have a graphic card to work with!\n",
    "device=torch.device(\"cuda\")"
   ]
  },
  {
   "cell_type": "code",
   "execution_count": null,
   "id": "9a99af86-7f4e-4d4a-bb43-525d55e91992",
   "metadata": {
    "execution": {
     "iopub.execute_input": "2024-11-26T14:29:22.688022Z",
     "iopub.status.busy": "2024-11-26T14:29:22.687640Z",
     "iopub.status.idle": "2024-11-26T14:29:22.691014Z",
     "shell.execute_reply": "2024-11-26T14:29:22.690119Z"
    }
   },
   "outputs": [],
   "source": [
    "path = pathlib.Path(os.getcwd())"
   ]
  },
  {
   "cell_type": "code",
   "execution_count": null,
   "id": "cab85961-435e-4423-aa0d-05e93263049d",
   "metadata": {
    "execution": {
     "iopub.execute_input": "2024-11-26T14:29:22.693491Z",
     "iopub.status.busy": "2024-11-26T14:29:22.693276Z",
     "iopub.status.idle": "2024-11-26T14:29:22.696482Z",
     "shell.execute_reply": "2024-11-26T14:29:22.695885Z"
    }
   },
   "outputs": [],
   "source": [
    "path_GT = path/'Daten/FMD_GT'\n",
    "path_noisy = path/'Daten/FMD_noisy'"
   ]
  },
  {
   "cell_type": "code",
   "execution_count": null,
   "id": "ebd82cef",
   "metadata": {
    "execution": {
     "iopub.execute_input": "2024-11-26T14:29:22.698513Z",
     "iopub.status.busy": "2024-11-26T14:29:22.698356Z",
     "iopub.status.idle": "2024-11-26T14:29:22.821194Z",
     "shell.execute_reply": "2024-11-26T14:29:22.819759Z"
    }
   },
   "outputs": [],
   "source": [
    "# set seeds for everything for reproducibility\n",
    "%run set_seeds.ipynb"
   ]
  },
  {
   "cell_type": "code",
   "execution_count": null,
   "id": "27785850-448c-4595-b378-1a1fbff328d6",
   "metadata": {
    "execution": {
     "iopub.execute_input": "2024-11-26T14:29:22.824252Z",
     "iopub.status.busy": "2024-11-26T14:29:22.824062Z",
     "iopub.status.idle": "2024-11-26T14:29:22.928296Z",
     "shell.execute_reply": "2024-11-26T14:29:22.927529Z"
    }
   },
   "outputs": [],
   "source": [
    "# run Dataloader\n",
    "%run Dataloader_FMD.ipynb"
   ]
  },
  {
   "cell_type": "code",
   "execution_count": null,
   "id": "0ddfe5f4-66a9-4576-a3d9-492d415f6f7f",
   "metadata": {
    "execution": {
     "iopub.execute_input": "2024-11-26T14:29:22.930660Z",
     "iopub.status.busy": "2024-11-26T14:29:22.930498Z",
     "iopub.status.idle": "2024-11-26T14:29:24.136742Z",
     "shell.execute_reply": "2024-11-26T14:29:24.135633Z"
    }
   },
   "outputs": [],
   "source": [
    "# run notebook to set loss \n",
    "%run Perception_loss.ipynb"
   ]
  },
  {
   "cell_type": "code",
   "execution_count": null,
   "id": "769fce40-7105-41e0-a7f2-4b1d457c2092",
   "metadata": {
    "execution": {
     "iopub.execute_input": "2024-11-26T14:29:24.139656Z",
     "iopub.status.busy": "2024-11-26T14:29:24.139477Z",
     "iopub.status.idle": "2024-11-26T14:29:35.247206Z",
     "shell.execute_reply": "2024-11-26T14:29:35.246472Z"
    }
   },
   "outputs": [],
   "source": [
    "# apply dataloader with batchsize of 38 for RTX4060, 16GB, may be lower for you, loss weights may need be tuned for other bs\n",
    "dls_den = get_dls(38, 256)      "
   ]
  },
  {
   "cell_type": "code",
   "execution_count": null,
   "id": "56a3c67b",
   "metadata": {
    "execution": {
     "iopub.execute_input": "2024-11-26T14:29:35.249756Z",
     "iopub.status.busy": "2024-11-26T14:29:35.249569Z",
     "iopub.status.idle": "2024-11-26T14:29:35.253388Z",
     "shell.execute_reply": "2024-11-26T14:29:35.252833Z"
    }
   },
   "outputs": [],
   "source": [
    "# setup loss function and weights for indiviual loss components - approximately equal loss in first epoch\n",
    "loss_func = FeatureLoss(vgg_m, blocks[2:5],[100], [4,10,7], [5,26,5])"
   ]
  },
  {
   "cell_type": "code",
   "execution_count": null,
   "id": "e39e6692",
   "metadata": {
    "execution": {
     "iopub.execute_input": "2024-11-26T14:29:35.255309Z",
     "iopub.status.busy": "2024-11-26T14:29:35.254861Z",
     "iopub.status.idle": "2024-11-26T14:29:35.257493Z",
     "shell.execute_reply": "2024-11-26T14:29:35.256958Z"
    }
   },
   "outputs": [],
   "source": [
    "# set metrics to track individual loss components \n",
    "metrics = LossMetrics(loss_func.metric_names)"
   ]
  },
  {
   "cell_type": "code",
   "execution_count": null,
   "id": "ab042bcb-202a-4b31-8cd2-1cbdf7d49cb4",
   "metadata": {
    "execution": {
     "iopub.execute_input": "2024-11-26T14:29:35.259040Z",
     "iopub.status.busy": "2024-11-26T14:29:35.258890Z",
     "iopub.status.idle": "2024-11-26T14:29:35.261509Z",
     "shell.execute_reply": "2024-11-26T14:29:35.260976Z"
    }
   },
   "outputs": [],
   "source": [
    "# set file name and tracking information to store training metrics\n",
    "fname = 'Basemodel_FMD'\n",
    "cbs = CSVLogger(fname=fname+'.csv')"
   ]
  },
  {
   "cell_type": "code",
   "execution_count": null,
   "id": "ac7d5e3a-60e0-433f-8b31-b9c9efadea8e",
   "metadata": {
    "execution": {
     "iopub.execute_input": "2024-11-26T14:29:35.263562Z",
     "iopub.status.busy": "2024-11-26T14:29:35.263193Z",
     "iopub.status.idle": "2024-11-26T14:29:35.266109Z",
     "shell.execute_reply": "2024-11-26T14:29:35.265593Z"
    }
   },
   "outputs": [],
   "source": [
    "# define model architecture and parameters, pretrained false sets all layers as trainable\n",
    "def create_gen_learner():\n",
    "    return unet_learner(dls_den, bbone, loss_func=loss_func, blur=True, norm_type=NormType.Weight, \n",
    "                        self_attention=True, y_range=y_range, pretrained=False, weights=None,\n",
    "                        metrics=metrics, cbs=cbs\n",
    "                        )"
   ]
  },
  {
   "cell_type": "code",
   "execution_count": null,
   "id": "e63f025e-64bd-4189-b367-262f1e2d6ed1",
   "metadata": {
    "execution": {
     "iopub.execute_input": "2024-11-26T14:29:35.267923Z",
     "iopub.status.busy": "2024-11-26T14:29:35.267776Z",
     "iopub.status.idle": "2024-11-26T14:29:43.713824Z",
     "shell.execute_reply": "2024-11-26T14:29:43.713020Z"
    }
   },
   "outputs": [],
   "source": [
    "# create denoising learner\n",
    "learn_den = create_gen_learner()\n",
    "learn_den.to_fp16()\n",
    "learn_den.summary() # to check that all layers are trainable"
   ]
  },
  {
   "cell_type": "code",
   "execution_count": null,
   "id": "1ba158af-a051-4824-a6d9-7c6e612d09ad",
   "metadata": {
    "execution": {
     "iopub.execute_input": "2024-11-26T14:29:43.716611Z",
     "iopub.status.busy": "2024-11-26T14:29:43.716423Z",
     "iopub.status.idle": "2024-11-26T14:30:42.709211Z",
     "shell.execute_reply": "2024-11-26T14:30:42.708199Z"
    }
   },
   "outputs": [],
   "source": [
    "# learning rate finder to set proper learning rate - high slope for loss\n",
    "learn_den.lr_find()"
   ]
  },
  {
   "cell_type": "code",
   "execution_count": null,
   "id": "9bc550d6",
   "metadata": {
    "execution": {
     "iopub.execute_input": "2024-11-26T14:30:42.715173Z",
     "iopub.status.busy": "2024-11-26T14:30:42.714908Z",
     "iopub.status.idle": "2024-11-27T08:37:38.418109Z",
     "shell.execute_reply": "2024-11-27T08:37:38.416923Z"
    }
   },
   "outputs": [],
   "source": [
    "# training using the one cycle policy - learning rate scheduler\n",
    "learn_den.fit_one_cycle(100,3e-4,wd=wd)"
   ]
  },
  {
   "cell_type": "code",
   "execution_count": null,
   "id": "c888f300-c1c5-4c46-8ea4-0b4641d6251a",
   "metadata": {
    "execution": {
     "iopub.execute_input": "2024-11-27T08:37:38.422616Z",
     "iopub.status.busy": "2024-11-27T08:37:38.422310Z",
     "iopub.status.idle": "2024-11-27T08:37:43.473415Z",
     "shell.execute_reply": "2024-11-27T08:37:43.472419Z"
    }
   },
   "outputs": [],
   "source": [
    "# save model\n",
    "learn_den.save(fname)"
   ]
  }
 ],
 "metadata": {
  "kernelspec": {
   "display_name": "Python 3 (ipykernel)",
   "language": "python",
   "name": "python3"
  },
  "language_info": {
   "codemirror_mode": {
    "name": "ipython",
    "version": 3
   },
   "file_extension": ".py",
   "mimetype": "text/x-python",
   "name": "python",
   "nbconvert_exporter": "python",
   "pygments_lexer": "ipython3",
   "version": "3.10.13"
  }
 },
 "nbformat": 4,
 "nbformat_minor": 5
}
